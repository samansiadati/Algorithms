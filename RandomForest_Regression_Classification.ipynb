{
  "nbformat": 4,
  "nbformat_minor": 0,
  "metadata": {
    "colab": {
      "name": "RandomForest_Regression_Classification.ipynb",
      "provenance": [],
      "collapsed_sections": []
    },
    "kernelspec": {
      "name": "python3",
      "display_name": "Python 3"
    }
  },
  "cells": [
    {
      "cell_type": "markdown",
      "metadata": {
        "id": "twfQUbr1xjna"
      },
      "source": [
        "**Introduction**"
      ]
    },
    {
      "cell_type": "markdown",
      "metadata": {
        "id": "_zVp_nklCy2M"
      },
      "source": [
        "Random forest is a type of supervised machine learning algorithm based on ensemble learning. Ensemble learning is a type of learning where you join different types of algorithms or same algorithm multiple times to form a more powerful prediction model. The random forest algorithm combines multiple algorithm of the same type i.e. multiple decision trees, resulting in a forest of trees, hence the name \"Random Forest\". The random forest algorithm can be used for both regression and classification tasks."
      ]
    },
    {
      "cell_type": "markdown",
      "metadata": {
        "id": "DPyeBxrtDC9T"
      },
      "source": [
        "**How the Random Forest Algorithm Works**\r\n",
        "\r\n",
        "The following are the basic steps involved in performing the random forest algorithm:\r\n",
        "\r\n",
        "1.   Pick N random records from the dataset.\r\n",
        "2. Build a decision tree based on these N records.\r\n",
        "3. Choose the number of trees you want in your algorithm and repeat steps 1 and 2.\r\n",
        "4. In case of a regression problem, for a new record, each tree in the forest predicts a value for Y (output). The final value can be calculated by taking the average of all the values predicted by all the trees in forest. Or, in case of a classification problem, each tree in the forest predicts the category to which the new record belongs. Finally, the new record is assigned to the category that wins the majority vote.\r\n",
        "\r\n"
      ]
    },
    {
      "cell_type": "markdown",
      "metadata": {
        "id": "v3a9goyBFXhH"
      },
      "source": [
        "**Advantages of using Random Forest**\r\n",
        "\r\n",
        "As with any algorithm, there are advantages and disadvantages to using it. In the next two sections we'll take a look at the pros and cons of using random forest for classification and regression.\r\n",
        "\r\n",
        "1. **The random forest algorithm is not biased**, since, there are multiple trees and each tree is trained on a subset of data. Basically, the random forest algorithm relies on the power of \"the crowd\"; therefore the overall biasedness of the algorithm is reduced.\r\n",
        "2. **This algorithm is very stable**. Even if a new data point is introduced in the dataset the overall algorithm is not affected much since new data may impact one tree, but it is very hard for it to impact all the trees.\r\n",
        "3. **The random forest algorithm works well when you have both categorical and numerical features.**\r\n",
        "4. **The random forest algorithm also works well when data has missing values** or it has not been scaled well (although we have performed feature scaling in this article just for the purpose of demonstration).\r\n"
      ]
    },
    {
      "cell_type": "markdown",
      "metadata": {
        "id": "SawuYhQ2GI46"
      },
      "source": [
        "**Disadvantages of using Random Forest**\r\n",
        "\r\n",
        "1. A major disadvantage of random forests lies in their complexity. They required much more computational resources, owing to the large number of decision trees joined together.\r\n",
        "2. Due to their complexity, they require much more time to train than other comparable algorithms.\r\n"
      ]
    },
    {
      "cell_type": "markdown",
      "metadata": {
        "id": "-Iq9ve6bU3T7"
      },
      "source": [
        "----------------------------------------------------------------------------------------------------------------------------------------------"
      ]
    },
    {
      "cell_type": "markdown",
      "metadata": {
        "id": "bqo58LMuGIm0"
      },
      "source": [
        "**Part 1: Using Random Forest for Regression**"
      ]
    },
    {
      "cell_type": "markdown",
      "metadata": {
        "id": "zuNlpsNKGrRQ"
      },
      "source": [
        "\r\n",
        "**Problem Definitiont**\r\n",
        "\r\n",
        "The problem here is to predict the gas consumption (in millions of gallons) in 48 of the US states based on petrol tax (in cents), per capita income (dollars), paved highways (in miles) and the proportion of population with the driving license."
      ]
    },
    {
      "cell_type": "code",
      "metadata": {
        "id": "09ZcB0ZdGx8Q"
      },
      "source": [
        "import pandas as pd\r\n",
        "import numpy as np"
      ],
      "execution_count": null,
      "outputs": []
    },
    {
      "cell_type": "code",
      "metadata": {
        "colab": {
          "base_uri": "https://localhost:8080/"
        },
        "id": "hd1Xbp4hH1yp",
        "outputId": "e2c1ed34-d47f-491e-d59b-1b2ea07fce89"
      },
      "source": [
        "from google.colab import drive\r\n",
        "drive.mount('/content/gdrive')"
      ],
      "execution_count": null,
      "outputs": [
        {
          "output_type": "stream",
          "text": [
            "Mounted at /content/gdrive\n"
          ],
          "name": "stdout"
        }
      ]
    },
    {
      "cell_type": "code",
      "metadata": {
        "id": "NuPHvgvsIjOc"
      },
      "source": [
        "df = pd.read_csv('/content/gdrive/My Drive/Business-petrol_consumption-RandomForest/petrol_consumption.csv')"
      ],
      "execution_count": null,
      "outputs": []
    },
    {
      "cell_type": "code",
      "metadata": {
        "colab": {
          "base_uri": "https://localhost:8080/",
          "height": 191
        },
        "id": "0oHdQUfEJNqz",
        "outputId": "c3c5f6d0-9fd8-4057-a9a3-0dbb18026eaf"
      },
      "source": [
        "df.head()"
      ],
      "execution_count": null,
      "outputs": [
        {
          "output_type": "execute_result",
          "data": {
            "text/html": [
              "<div>\n",
              "<style scoped>\n",
              "    .dataframe tbody tr th:only-of-type {\n",
              "        vertical-align: middle;\n",
              "    }\n",
              "\n",
              "    .dataframe tbody tr th {\n",
              "        vertical-align: top;\n",
              "    }\n",
              "\n",
              "    .dataframe thead th {\n",
              "        text-align: right;\n",
              "    }\n",
              "</style>\n",
              "<table border=\"1\" class=\"dataframe\">\n",
              "  <thead>\n",
              "    <tr style=\"text-align: right;\">\n",
              "      <th></th>\n",
              "      <th>Petrol_tax</th>\n",
              "      <th>Average_income</th>\n",
              "      <th>Paved_Highways</th>\n",
              "      <th>Population_Driver_licence(%)</th>\n",
              "      <th>Petrol_Consumption</th>\n",
              "    </tr>\n",
              "  </thead>\n",
              "  <tbody>\n",
              "    <tr>\n",
              "      <th>0</th>\n",
              "      <td>9.0</td>\n",
              "      <td>3571</td>\n",
              "      <td>1976</td>\n",
              "      <td>0.525</td>\n",
              "      <td>541</td>\n",
              "    </tr>\n",
              "    <tr>\n",
              "      <th>1</th>\n",
              "      <td>9.0</td>\n",
              "      <td>4092</td>\n",
              "      <td>1250</td>\n",
              "      <td>0.572</td>\n",
              "      <td>524</td>\n",
              "    </tr>\n",
              "    <tr>\n",
              "      <th>2</th>\n",
              "      <td>9.0</td>\n",
              "      <td>3865</td>\n",
              "      <td>1586</td>\n",
              "      <td>0.580</td>\n",
              "      <td>561</td>\n",
              "    </tr>\n",
              "    <tr>\n",
              "      <th>3</th>\n",
              "      <td>7.5</td>\n",
              "      <td>4870</td>\n",
              "      <td>2351</td>\n",
              "      <td>0.529</td>\n",
              "      <td>414</td>\n",
              "    </tr>\n",
              "    <tr>\n",
              "      <th>4</th>\n",
              "      <td>8.0</td>\n",
              "      <td>4399</td>\n",
              "      <td>431</td>\n",
              "      <td>0.544</td>\n",
              "      <td>410</td>\n",
              "    </tr>\n",
              "  </tbody>\n",
              "</table>\n",
              "</div>"
            ],
            "text/plain": [
              "   Petrol_tax  Average_income  ...  Population_Driver_licence(%)  Petrol_Consumption\n",
              "0         9.0            3571  ...                         0.525                 541\n",
              "1         9.0            4092  ...                         0.572                 524\n",
              "2         9.0            3865  ...                         0.580                 561\n",
              "3         7.5            4870  ...                         0.529                 414\n",
              "4         8.0            4399  ...                         0.544                 410\n",
              "\n",
              "[5 rows x 5 columns]"
            ]
          },
          "metadata": {
            "tags": []
          },
          "execution_count": 7
        }
      ]
    },
    {
      "cell_type": "markdown",
      "metadata": {
        "id": "8P5WYBMxJ2Qz"
      },
      "source": [
        "We can see that the values in our dataset are not very well scaled. We will scale them down before training the algorithm.\r\n",
        "\r\n"
      ]
    },
    {
      "cell_type": "markdown",
      "metadata": {
        "id": "fth5tS-qKKkU"
      },
      "source": [
        "**1. divide data into 'attributes' and 'label' sets.**"
      ]
    },
    {
      "cell_type": "code",
      "metadata": {
        "id": "Z4e7_XT9JSae"
      },
      "source": [
        "X = df.iloc[:, 0:4].values\r\n",
        "y = df.iloc[:, 4].values"
      ],
      "execution_count": null,
      "outputs": []
    },
    {
      "cell_type": "code",
      "metadata": {
        "colab": {
          "base_uri": "https://localhost:8080/"
        },
        "id": "myavV0PkKbtC",
        "outputId": "5397fca2-f24f-4fa1-875d-df16a5be90f7"
      },
      "source": [
        "X"
      ],
      "execution_count": null,
      "outputs": [
        {
          "output_type": "execute_result",
          "data": {
            "text/plain": [
              "array([[9.0000e+00, 3.5710e+03, 1.9760e+03, 5.2500e-01],\n",
              "       [9.0000e+00, 4.0920e+03, 1.2500e+03, 5.7200e-01],\n",
              "       [9.0000e+00, 3.8650e+03, 1.5860e+03, 5.8000e-01],\n",
              "       [7.5000e+00, 4.8700e+03, 2.3510e+03, 5.2900e-01],\n",
              "       [8.0000e+00, 4.3990e+03, 4.3100e+02, 5.4400e-01],\n",
              "       [1.0000e+01, 5.3420e+03, 1.3330e+03, 5.7100e-01],\n",
              "       [8.0000e+00, 5.3190e+03, 1.1868e+04, 4.5100e-01],\n",
              "       [8.0000e+00, 5.1260e+03, 2.1380e+03, 5.5300e-01],\n",
              "       [8.0000e+00, 4.4470e+03, 8.5770e+03, 5.2900e-01],\n",
              "       [7.0000e+00, 4.5120e+03, 8.5070e+03, 5.5200e-01],\n",
              "       [8.0000e+00, 4.3910e+03, 5.9390e+03, 5.3000e-01],\n",
              "       [7.5000e+00, 5.1260e+03, 1.4186e+04, 5.2500e-01],\n",
              "       [7.0000e+00, 4.8170e+03, 6.9300e+03, 5.7400e-01],\n",
              "       [7.0000e+00, 4.2070e+03, 6.5800e+03, 5.4500e-01],\n",
              "       [7.0000e+00, 4.3320e+03, 8.1590e+03, 6.0800e-01],\n",
              "       [7.0000e+00, 4.3180e+03, 1.0340e+04, 5.8600e-01],\n",
              "       [7.0000e+00, 4.2060e+03, 8.5080e+03, 5.7200e-01],\n",
              "       [7.0000e+00, 3.7180e+03, 4.7250e+03, 5.4000e-01],\n",
              "       [7.0000e+00, 4.7160e+03, 5.9150e+03, 7.2400e-01],\n",
              "       [8.5000e+00, 4.3410e+03, 6.0100e+03, 6.7700e-01],\n",
              "       [7.0000e+00, 4.5930e+03, 7.8340e+03, 6.6300e-01],\n",
              "       [8.0000e+00, 4.9830e+03, 6.0200e+02, 6.0200e-01],\n",
              "       [9.0000e+00, 4.8970e+03, 2.4490e+03, 5.1100e-01],\n",
              "       [9.0000e+00, 4.2580e+03, 4.6860e+03, 5.1700e-01],\n",
              "       [8.5000e+00, 4.5740e+03, 2.6190e+03, 5.5100e-01],\n",
              "       [9.0000e+00, 3.7210e+03, 4.7460e+03, 5.4400e-01],\n",
              "       [8.0000e+00, 3.4480e+03, 5.3990e+03, 5.4800e-01],\n",
              "       [7.5000e+00, 3.8460e+03, 9.0610e+03, 5.7900e-01],\n",
              "       [8.0000e+00, 4.1880e+03, 5.9750e+03, 5.6300e-01],\n",
              "       [9.0000e+00, 3.6010e+03, 4.6500e+03, 4.9300e-01],\n",
              "       [7.0000e+00, 3.6400e+03, 6.9050e+03, 5.1800e-01],\n",
              "       [7.0000e+00, 3.3330e+03, 6.5940e+03, 5.1300e-01],\n",
              "       [8.0000e+00, 3.0630e+03, 6.5240e+03, 5.7800e-01],\n",
              "       [7.5000e+00, 3.3570e+03, 4.1210e+03, 5.4700e-01],\n",
              "       [8.0000e+00, 3.5280e+03, 3.4950e+03, 4.8700e-01],\n",
              "       [6.5800e+00, 3.8020e+03, 7.8340e+03, 6.2900e-01],\n",
              "       [5.0000e+00, 4.0450e+03, 1.7782e+04, 5.6600e-01],\n",
              "       [7.0000e+00, 3.8970e+03, 6.3850e+03, 5.8600e-01],\n",
              "       [8.5000e+00, 3.6350e+03, 3.2740e+03, 6.6300e-01],\n",
              "       [7.0000e+00, 4.3450e+03, 3.9050e+03, 6.7200e-01],\n",
              "       [7.0000e+00, 4.4490e+03, 4.6390e+03, 6.2600e-01],\n",
              "       [7.0000e+00, 3.6560e+03, 3.9850e+03, 5.6300e-01],\n",
              "       [7.0000e+00, 4.3000e+03, 3.6350e+03, 6.0300e-01],\n",
              "       [7.0000e+00, 3.7450e+03, 2.6110e+03, 5.0800e-01],\n",
              "       [6.0000e+00, 5.2150e+03, 2.3020e+03, 6.7200e-01],\n",
              "       [9.0000e+00, 4.4760e+03, 3.9420e+03, 5.7100e-01],\n",
              "       [7.0000e+00, 4.2960e+03, 4.0830e+03, 6.2300e-01],\n",
              "       [7.0000e+00, 5.0020e+03, 9.7940e+03, 5.9300e-01]])"
            ]
          },
          "metadata": {
            "tags": []
          },
          "execution_count": 11
        }
      ]
    },
    {
      "cell_type": "code",
      "metadata": {
        "colab": {
          "base_uri": "https://localhost:8080/"
        },
        "id": "gftIDfHmKgiL",
        "outputId": "6827ab8e-3799-46f5-ec0a-5076a683ad62"
      },
      "source": [
        "y"
      ],
      "execution_count": null,
      "outputs": [
        {
          "output_type": "execute_result",
          "data": {
            "text/plain": [
              "array([541, 524, 561, 414, 410, 457, 344, 467, 464, 498, 580, 471, 525,\n",
              "       508, 566, 635, 603, 714, 865, 640, 649, 540, 464, 547, 460, 566,\n",
              "       577, 631, 574, 534, 571, 554, 577, 628, 487, 644, 640, 704, 648,\n",
              "       968, 587, 699, 632, 591, 782, 510, 610, 524])"
            ]
          },
          "metadata": {
            "tags": []
          },
          "execution_count": 12
        }
      ]
    },
    {
      "cell_type": "markdown",
      "metadata": {
        "id": "FFYt1UMkNL5L"
      },
      "source": [
        "**2. let's divide the data into training and testing sets**"
      ]
    },
    {
      "cell_type": "code",
      "metadata": {
        "id": "OqXB3maZK4dW"
      },
      "source": [
        "from sklearn.model_selection import train_test_split\r\n",
        "\r\n",
        "X_train, X_test, y_train, y_test = train_test_split(X, y, test_size=0.2, random_state=0)"
      ],
      "execution_count": null,
      "outputs": []
    },
    {
      "cell_type": "markdown",
      "metadata": {
        "id": "P5u9ncgENgPB"
      },
      "source": [
        "**3. Feature Scaling**"
      ]
    },
    {
      "cell_type": "markdown",
      "metadata": {
        "id": "_7xTvP_AN_Hb"
      },
      "source": [
        "We know our dataset is not yet a scaled value, for instance the Average_Income field has values in the range of thousands while Petrol_tax has values in range of tens. Therefore, it would be beneficial to scale our data (although, as mentioned earlier, this step isn't as important for the random forests algorithm). To do so, we will use Scikit-Learn's StandardScaler class."
      ]
    },
    {
      "cell_type": "code",
      "metadata": {
        "id": "fUdJdp1aNQbN"
      },
      "source": [
        "from sklearn.preprocessing import StandardScaler\r\n",
        "\r\n",
        "sc = StandardScaler()\r\n",
        "X_train = sc.fit_transform(X_train)\r\n",
        "X_test = sc.transform(X_test)"
      ],
      "execution_count": null,
      "outputs": []
    },
    {
      "cell_type": "markdown",
      "metadata": {
        "id": "4ndP6yvdPy8b"
      },
      "source": [
        "**4. Training the Algorithm**"
      ]
    },
    {
      "cell_type": "code",
      "metadata": {
        "id": "Ac2UxXP0OE-6"
      },
      "source": [
        "from sklearn.ensemble import RandomForestRegressor\r\n",
        "\r\n",
        "regressor = RandomForestRegressor(n_estimators=20, random_state=0)\r\n",
        "regressor.fit(X_train, y_train)\r\n",
        "y_pred = regressor.predict(X_test)"
      ],
      "execution_count": null,
      "outputs": []
    },
    {
      "cell_type": "markdown",
      "metadata": {
        "id": "aVzw5p6lQF66"
      },
      "source": [
        "The most important parameter of the RandomForestRegressor class is the n_estimators parameter. This parameter defines the number of trees in the random forest. We will start with n_estimator=20 to see how our algorithm performs. "
      ]
    },
    {
      "cell_type": "markdown",
      "metadata": {
        "id": "y3D9RYwBQUFb"
      },
      "source": [
        "https://scikit-learn.org/stable/modules/generated/sklearn.ensemble.RandomForestRegressor.html"
      ]
    },
    {
      "cell_type": "markdown",
      "metadata": {
        "id": "LdvivgLOQabL"
      },
      "source": [
        "**5. Evaluating the Algorithm**"
      ]
    },
    {
      "cell_type": "markdown",
      "metadata": {
        "id": "QRmAcSFtQnQz"
      },
      "source": [
        "For regression problems the metrics used to evaluate an algorithm are **mean absolute error**, **mean squared error**, and **root mean squared error**. "
      ]
    },
    {
      "cell_type": "code",
      "metadata": {
        "colab": {
          "base_uri": "https://localhost:8080/"
        },
        "id": "-5SbAnIFP8Fu",
        "outputId": "7eac3cf2-3911-472b-83ec-74665d64632c"
      },
      "source": [
        "from sklearn import metrics\r\n",
        "\r\n",
        "print('Mean Absolute Error:', metrics.mean_absolute_error(y_test, y_pred))\r\n",
        "print('Mean Squared Error:', metrics.mean_squared_error(y_test, y_pred))\r\n",
        "print('Root Mean Squared Error:', np.sqrt(metrics.mean_squared_error(y_test, y_pred)))"
      ],
      "execution_count": null,
      "outputs": [
        {
          "output_type": "stream",
          "text": [
            "Mean Absolute Error: 48.33899999999999\n",
            "Mean Squared Error: 3494.2330150000003\n",
            "Root Mean Squared Error: 59.112037818028234\n"
          ],
          "name": "stdout"
        }
      ]
    },
    {
      "cell_type": "markdown",
      "metadata": {
        "id": "Kj0dacxLRAbz"
      },
      "source": [
        "With 20 trees, the root mean squared error is 64.93 which is greater than 10 percent of the average petrol consumption i.e. 576.77. This may indicate, among other things, that we have not used enough estimators (trees)."
      ]
    },
    {
      "cell_type": "markdown",
      "metadata": {
        "id": "f0B8nKKaRHH7"
      },
      "source": [
        "**6. Modifiying the model**\r\n",
        "\r\n",
        "If the number of estimators is changed to 200, the results are as follows:\r\n",
        "\r\n"
      ]
    },
    {
      "cell_type": "code",
      "metadata": {
        "id": "c0BDFdfORY6F"
      },
      "source": [
        "from sklearn.ensemble import RandomForestRegressor\r\n",
        "\r\n",
        "regressor = RandomForestRegressor(n_estimators=200, random_state=0)\r\n",
        "regressor.fit(X_train, y_train)\r\n",
        "y_pred = regressor.predict(X_test)"
      ],
      "execution_count": null,
      "outputs": []
    },
    {
      "cell_type": "code",
      "metadata": {
        "colab": {
          "base_uri": "https://localhost:8080/"
        },
        "id": "B_mLd0GsRblE",
        "outputId": "b1dda086-c1c9-4b02-8303-e0b6d30724c0"
      },
      "source": [
        "print('Mean Absolute Error:', metrics.mean_absolute_error(y_test, y_pred))\r\n",
        "print('Mean Squared Error:', metrics.mean_squared_error(y_test, y_pred))\r\n",
        "print('Root Mean Squared Error:', np.sqrt(metrics.mean_squared_error(y_test, y_pred)))"
      ],
      "execution_count": null,
      "outputs": [
        {
          "output_type": "stream",
          "text": [
            "Mean Absolute Error: 48.33899999999999\n",
            "Mean Squared Error: 3494.2330150000003\n",
            "Root Mean Squared Error: 59.112037818028234\n"
          ],
          "name": "stdout"
        }
      ]
    },
    {
      "cell_type": "markdown",
      "metadata": {
        "id": "e_BdH50wSSw0"
      },
      "source": [
        "![image.png](data:image/png;base64,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)"
      ]
    },
    {
      "cell_type": "markdown",
      "metadata": {
        "id": "DQmFExW0SWNb"
      },
      "source": [
        "We can see that the error values decreases with the increase in number of estimator. After 200 the rate of decrease in error diminishes, so therefore 200 is a good number for n_estimators."
      ]
    },
    {
      "cell_type": "markdown",
      "metadata": {
        "id": "49gam67kUoYC"
      },
      "source": [
        "----------------------------------------------------------------------------------------------------------------------------------------------------------------"
      ]
    },
    {
      "cell_type": "markdown",
      "metadata": {
        "id": "dY_2PQzQUoO8"
      },
      "source": [
        "**Part 2: Using Random Forest for Classification**"
      ]
    },
    {
      "cell_type": "markdown",
      "metadata": {
        "id": "l3E9na2AU9Na"
      },
      "source": [
        "**Problem Definition**\r\n",
        "\r\n"
      ]
    },
    {
      "cell_type": "markdown",
      "metadata": {
        "id": "wvnv2xmkU-5D"
      },
      "source": [
        "The task here is to predict whether a bank currency note is authentic or not based on four attributes i.e. variance of the image wavelet transformed image, skewness, entropy, and curtosis of the image.\r\n"
      ]
    },
    {
      "cell_type": "markdown",
      "metadata": {
        "id": "P2GRfODVVJeC"
      },
      "source": [
        "This is a binary classification problem and we will use a random forest classifier to solve this problem. Steps followed to solve this problem will be similar to the steps performed for regression.\r\n",
        "\r\n"
      ]
    },
    {
      "cell_type": "markdown",
      "metadata": {
        "id": "wennXzVzUCgr"
      },
      "source": [
        "Data Set Information:\r\n",
        "\r\n",
        "Data were extracted from images that were taken from genuine and forged banknote-like specimens. For digitization, an industrial camera usually used for print inspection was used. The final images have 400x 400 pixels. Due to the object lens and distance to the investigated object gray-scale pictures with a resolution of about 660 dpi were gained. Wavelet Transform tool were used to extract features from images.\r\n",
        "\r\n",
        "\r\n",
        "Attribute Information:\r\n",
        "\r\n",
        "1. variance of Wavelet Transformed image (continuous)\r\n",
        "2. skewness of Wavelet Transformed image (continuous)\r\n",
        "3. curtosis of Wavelet Transformed image (continuous)\r\n",
        "4. entropy of image (continuous)\r\n",
        "5. class (integer)\r\n",
        "\r\n"
      ]
    },
    {
      "cell_type": "code",
      "metadata": {
        "id": "5LRURjrJUB6g"
      },
      "source": [
        ""
      ],
      "execution_count": null,
      "outputs": []
    },
    {
      "cell_type": "code",
      "metadata": {
        "id": "iJBWw1pcRe17"
      },
      "source": [
        "df1 = pd.read_csv('/content/gdrive/My Drive/Business-petrol_consumption-RandomForest/bill_authentication.csv')"
      ],
      "execution_count": null,
      "outputs": []
    },
    {
      "cell_type": "code",
      "metadata": {
        "colab": {
          "base_uri": "https://localhost:8080/",
          "height": 391
        },
        "id": "iizlMKCrrNiK",
        "outputId": "bce9eb5a-cf87-4d72-b559-64968595a741"
      },
      "source": [
        "df1"
      ],
      "execution_count": null,
      "outputs": [
        {
          "output_type": "execute_result",
          "data": {
            "text/html": [
              "<div>\n",
              "<style scoped>\n",
              "    .dataframe tbody tr th:only-of-type {\n",
              "        vertical-align: middle;\n",
              "    }\n",
              "\n",
              "    .dataframe tbody tr th {\n",
              "        vertical-align: top;\n",
              "    }\n",
              "\n",
              "    .dataframe thead th {\n",
              "        text-align: right;\n",
              "    }\n",
              "</style>\n",
              "<table border=\"1\" class=\"dataframe\">\n",
              "  <thead>\n",
              "    <tr style=\"text-align: right;\">\n",
              "      <th></th>\n",
              "      <th>Variance</th>\n",
              "      <th>Skewness</th>\n",
              "      <th>Curtosis</th>\n",
              "      <th>Entropy</th>\n",
              "      <th>Class</th>\n",
              "    </tr>\n",
              "  </thead>\n",
              "  <tbody>\n",
              "    <tr>\n",
              "      <th>0</th>\n",
              "      <td>3.62160</td>\n",
              "      <td>8.66610</td>\n",
              "      <td>-2.8073</td>\n",
              "      <td>-0.44699</td>\n",
              "      <td>0</td>\n",
              "    </tr>\n",
              "    <tr>\n",
              "      <th>1</th>\n",
              "      <td>4.54590</td>\n",
              "      <td>8.16740</td>\n",
              "      <td>-2.4586</td>\n",
              "      <td>-1.46210</td>\n",
              "      <td>0</td>\n",
              "    </tr>\n",
              "    <tr>\n",
              "      <th>2</th>\n",
              "      <td>3.86600</td>\n",
              "      <td>-2.63830</td>\n",
              "      <td>1.9242</td>\n",
              "      <td>0.10645</td>\n",
              "      <td>0</td>\n",
              "    </tr>\n",
              "    <tr>\n",
              "      <th>3</th>\n",
              "      <td>3.45660</td>\n",
              "      <td>9.52280</td>\n",
              "      <td>-4.0112</td>\n",
              "      <td>-3.59440</td>\n",
              "      <td>0</td>\n",
              "    </tr>\n",
              "    <tr>\n",
              "      <th>4</th>\n",
              "      <td>0.32924</td>\n",
              "      <td>-4.45520</td>\n",
              "      <td>4.5718</td>\n",
              "      <td>-0.98880</td>\n",
              "      <td>0</td>\n",
              "    </tr>\n",
              "    <tr>\n",
              "      <th>...</th>\n",
              "      <td>...</td>\n",
              "      <td>...</td>\n",
              "      <td>...</td>\n",
              "      <td>...</td>\n",
              "      <td>...</td>\n",
              "    </tr>\n",
              "    <tr>\n",
              "      <th>1367</th>\n",
              "      <td>0.40614</td>\n",
              "      <td>1.34920</td>\n",
              "      <td>-1.4501</td>\n",
              "      <td>-0.55949</td>\n",
              "      <td>1</td>\n",
              "    </tr>\n",
              "    <tr>\n",
              "      <th>1368</th>\n",
              "      <td>-1.38870</td>\n",
              "      <td>-4.87730</td>\n",
              "      <td>6.4774</td>\n",
              "      <td>0.34179</td>\n",
              "      <td>1</td>\n",
              "    </tr>\n",
              "    <tr>\n",
              "      <th>1369</th>\n",
              "      <td>-3.75030</td>\n",
              "      <td>-13.45860</td>\n",
              "      <td>17.5932</td>\n",
              "      <td>-2.77710</td>\n",
              "      <td>1</td>\n",
              "    </tr>\n",
              "    <tr>\n",
              "      <th>1370</th>\n",
              "      <td>-3.56370</td>\n",
              "      <td>-8.38270</td>\n",
              "      <td>12.3930</td>\n",
              "      <td>-1.28230</td>\n",
              "      <td>1</td>\n",
              "    </tr>\n",
              "    <tr>\n",
              "      <th>1371</th>\n",
              "      <td>-2.54190</td>\n",
              "      <td>-0.65804</td>\n",
              "      <td>2.6842</td>\n",
              "      <td>1.19520</td>\n",
              "      <td>1</td>\n",
              "    </tr>\n",
              "  </tbody>\n",
              "</table>\n",
              "<p>1372 rows × 5 columns</p>\n",
              "</div>"
            ],
            "text/plain": [
              "      Variance  Skewness  Curtosis  Entropy  Class\n",
              "0      3.62160   8.66610   -2.8073 -0.44699      0\n",
              "1      4.54590   8.16740   -2.4586 -1.46210      0\n",
              "2      3.86600  -2.63830    1.9242  0.10645      0\n",
              "3      3.45660   9.52280   -4.0112 -3.59440      0\n",
              "4      0.32924  -4.45520    4.5718 -0.98880      0\n",
              "...        ...       ...       ...      ...    ...\n",
              "1367   0.40614   1.34920   -1.4501 -0.55949      1\n",
              "1368  -1.38870  -4.87730    6.4774  0.34179      1\n",
              "1369  -3.75030 -13.45860   17.5932 -2.77710      1\n",
              "1370  -3.56370  -8.38270   12.3930 -1.28230      1\n",
              "1371  -2.54190  -0.65804    2.6842  1.19520      1\n",
              "\n",
              "[1372 rows x 5 columns]"
            ]
          },
          "metadata": {
            "tags": []
          },
          "execution_count": 23
        }
      ]
    },
    {
      "cell_type": "code",
      "metadata": {
        "colab": {
          "base_uri": "https://localhost:8080/"
        },
        "id": "ppFQf_rTuUud",
        "outputId": "821228ae-caa3-4dce-bcde-d22b8192e89b"
      },
      "source": [
        "df1['Class'].value_counts()"
      ],
      "execution_count": null,
      "outputs": [
        {
          "output_type": "execute_result",
          "data": {
            "text/plain": [
              "0    762\n",
              "1    610\n",
              "Name: Class, dtype: int64"
            ]
          },
          "metadata": {
            "tags": []
          },
          "execution_count": 37
        }
      ]
    },
    {
      "cell_type": "markdown",
      "metadata": {
        "id": "ULnFyl2cs9pL"
      },
      "source": [
        "1. Preparing data"
      ]
    },
    {
      "cell_type": "code",
      "metadata": {
        "id": "qHjolIjDrO_z"
      },
      "source": [
        "X = df1.iloc[:, 0:4].values\r\n",
        "y = df1.iloc[:, 4].values"
      ],
      "execution_count": null,
      "outputs": []
    },
    {
      "cell_type": "code",
      "metadata": {
        "id": "B8Tav3zKsw2h"
      },
      "source": [
        "from sklearn.model_selection import train_test_split\r\n",
        "\r\n",
        "X_train, X_test, y_train, y_test = train_test_split(X, y, test_size=0.2, random_state=0)"
      ],
      "execution_count": null,
      "outputs": []
    },
    {
      "cell_type": "markdown",
      "metadata": {
        "id": "TT1NT3SjtBYK"
      },
      "source": [
        "2. Feature scaling"
      ]
    },
    {
      "cell_type": "code",
      "metadata": {
        "id": "scvAPLrHs20Q"
      },
      "source": [
        "from sklearn.preprocessing import StandardScaler\r\n",
        "\r\n",
        "sc = StandardScaler()\r\n",
        "X_train = sc.fit_transform(X_train)\r\n",
        "X_test = sc.transform(X_test)"
      ],
      "execution_count": null,
      "outputs": []
    },
    {
      "cell_type": "markdown",
      "metadata": {
        "id": "soBg1OJMtJSz"
      },
      "source": [
        "3. Training"
      ]
    },
    {
      "cell_type": "code",
      "metadata": {
        "id": "q-Ah0SFrtF8u"
      },
      "source": [
        "from sklearn.ensemble import RandomForestRegressor\r\n",
        "\r\n",
        "regressor = RandomForestRegressor(n_estimators=20, random_state=0)\r\n",
        "regressor.fit(X_train, y_train)\r\n",
        "y_pred = regressor.predict(X_test)"
      ],
      "execution_count": null,
      "outputs": []
    },
    {
      "cell_type": "code",
      "metadata": {
        "colab": {
          "base_uri": "https://localhost:8080/"
        },
        "id": "zPG8v-tVur0U",
        "outputId": "5de4bfc0-7560-46fa-a4c7-a8aec31e4d1c"
      },
      "source": [
        "y_pred"
      ],
      "execution_count": null,
      "outputs": [
        {
          "output_type": "execute_result",
          "data": {
            "text/plain": [
              "array([1.  , 0.  , 1.  , 0.  , 0.  , 0.  , 0.  , 0.  , 1.  , 1.  , 0.  ,\n",
              "       0.  , 1.  , 0.  , 0.  , 0.  , 1.  , 1.  , 0.  , 0.  , 1.  , 0.  ,\n",
              "       0.  , 1.  , 0.  , 1.  , 0.  , 1.  , 0.  , 0.  , 1.  , 0.  , 1.  ,\n",
              "       1.  , 1.  , 0.  , 0.  , 1.  , 0.95, 1.  , 0.  , 1.  , 0.  , 0.  ,\n",
              "       1.  , 1.  , 0.  , 0.  , 1.  , 0.  , 0.  , 1.  , 0.1 , 1.  , 1.  ,\n",
              "       0.  , 1.  , 1.  , 0.  , 1.  , 1.  , 0.  , 0.  , 0.  , 0.  , 1.  ,\n",
              "       1.  , 1.  , 0.95, 0.  , 0.85, 0.  , 1.  , 0.  , 0.  , 1.  , 0.  ,\n",
              "       0.  , 0.  , 0.  , 1.  , 1.  , 0.  , 0.  , 1.  , 1.  , 0.  , 0.  ,\n",
              "       0.  , 0.  , 0.  , 1.  , 1.  , 0.95, 1.  , 0.  , 0.  , 0.  , 1.  ,\n",
              "       1.  , 0.  , 1.  , 0.  , 0.  , 0.  , 1.  , 0.  , 1.  , 1.  , 1.  ,\n",
              "       0.  , 1.  , 0.  , 0.  , 1.  , 0.  , 0.  , 0.  , 1.  , 1.  , 0.  ,\n",
              "       0.  , 1.  , 1.  , 0.55, 1.  , 1.  , 0.  , 0.55, 0.  , 0.  , 0.  ,\n",
              "       0.  , 0.  , 0.  , 1.  , 0.  , 0.  , 0.  , 0.  , 1.  , 0.  , 1.  ,\n",
              "       1.  , 0.  , 0.  , 1.  , 0.  , 0.  , 1.  , 0.1 , 0.  , 0.  , 0.  ,\n",
              "       1.  , 0.  , 0.95, 0.  , 1.  , 0.  , 0.  , 1.  , 0.  , 1.  , 0.  ,\n",
              "       1.  , 1.  , 0.  , 1.  , 1.  , 0.  , 1.  , 1.  , 1.  , 1.  , 0.  ,\n",
              "       0.  , 0.  , 1.  , 0.95, 0.  , 1.  , 0.  , 0.  , 0.1 , 1.  , 0.  ,\n",
              "       1.  , 0.95, 0.  , 0.  , 0.  , 1.  , 0.  , 1.  , 0.  , 0.  , 0.  ,\n",
              "       1.  , 1.  , 0.  , 0.  , 0.  , 0.  , 0.  , 0.  , 0.  , 0.  , 0.95,\n",
              "       0.  , 0.  , 1.  , 0.  , 0.  , 0.  , 1.  , 0.65, 0.  , 0.  , 0.  ,\n",
              "       0.  , 0.  , 0.  , 0.  , 0.  , 1.  , 0.95, 0.  , 0.  , 0.  , 0.  ,\n",
              "       1.  , 1.  , 0.  , 1.  , 1.  , 0.  , 0.  , 1.  , 1.  , 0.  , 1.  ,\n",
              "       1.  , 0.  , 0.85, 0.  , 0.  , 0.  , 0.  , 0.  , 0.5 , 1.  , 0.9 ,\n",
              "       1.  , 1.  , 0.  , 0.  , 1.  , 1.  , 0.95, 0.  , 0.  , 0.  , 1.  ,\n",
              "       0.  , 0.  , 1.  , 0.85, 0.  , 1.  , 1.  , 0.05, 1.  , 0.9 , 0.95])"
            ]
          },
          "metadata": {
            "tags": []
          },
          "execution_count": 38
        }
      ]
    },
    {
      "cell_type": "code",
      "metadata": {
        "id": "6e-C-zDvu8Be"
      },
      "source": [
        "y_pred = y_pred.round()"
      ],
      "execution_count": null,
      "outputs": []
    },
    {
      "cell_type": "markdown",
      "metadata": {
        "id": "sx3u1GNItO9j"
      },
      "source": [
        "4. Evaluating"
      ]
    },
    {
      "cell_type": "code",
      "metadata": {
        "id": "pj7KGf8StQjq"
      },
      "source": [
        "from sklearn.metrics import classification_report, confusion_matrix, accuracy_score"
      ],
      "execution_count": null,
      "outputs": []
    },
    {
      "cell_type": "code",
      "metadata": {
        "colab": {
          "base_uri": "https://localhost:8080/"
        },
        "id": "bdryNQV_tW9d",
        "outputId": "134aa616-6387-4368-da65-44f55bbd5fb0"
      },
      "source": [
        "print(confusion_matrix(y_test,y_pred))"
      ],
      "execution_count": null,
      "outputs": [
        {
          "output_type": "stream",
          "text": [
            "[[155   2]\n",
            " [  0 118]]\n"
          ],
          "name": "stdout"
        }
      ]
    },
    {
      "cell_type": "code",
      "metadata": {
        "colab": {
          "base_uri": "https://localhost:8080/",
          "height": 105
        },
        "id": "aqnY0LXHvi25",
        "outputId": "4b48a517-8d31-44bd-eafb-337084da1683"
      },
      "source": [
        "cm = np.array(confusion_matrix(y_test, y_pred, labels=[1,0]))\r\n",
        "confusion = pd.DataFrame(cm, index=['is_authentic', 'isnot_authentic'],\r\n",
        "                         columns=['predicted_authentic','predicted_notauthentic'])\r\n",
        "confusion"
      ],
      "execution_count": null,
      "outputs": [
        {
          "output_type": "execute_result",
          "data": {
            "text/html": [
              "<div>\n",
              "<style scoped>\n",
              "    .dataframe tbody tr th:only-of-type {\n",
              "        vertical-align: middle;\n",
              "    }\n",
              "\n",
              "    .dataframe tbody tr th {\n",
              "        vertical-align: top;\n",
              "    }\n",
              "\n",
              "    .dataframe thead th {\n",
              "        text-align: right;\n",
              "    }\n",
              "</style>\n",
              "<table border=\"1\" class=\"dataframe\">\n",
              "  <thead>\n",
              "    <tr style=\"text-align: right;\">\n",
              "      <th></th>\n",
              "      <th>predicted_authentic</th>\n",
              "      <th>predicted_notauthentic</th>\n",
              "    </tr>\n",
              "  </thead>\n",
              "  <tbody>\n",
              "    <tr>\n",
              "      <th>is_authentic</th>\n",
              "      <td>118</td>\n",
              "      <td>0</td>\n",
              "    </tr>\n",
              "    <tr>\n",
              "      <th>isnot_authentic</th>\n",
              "      <td>2</td>\n",
              "      <td>155</td>\n",
              "    </tr>\n",
              "  </tbody>\n",
              "</table>\n",
              "</div>"
            ],
            "text/plain": [
              "                 predicted_authentic  predicted_notauthentic\n",
              "is_authentic                     118                       0\n",
              "isnot_authentic                    2                     155"
            ]
          },
          "metadata": {
            "tags": []
          },
          "execution_count": 46
        }
      ]
    },
    {
      "cell_type": "code",
      "metadata": {
        "colab": {
          "base_uri": "https://localhost:8080/",
          "height": 283
        },
        "id": "_gCKquJRvQWP",
        "outputId": "630c4cb1-7af6-4046-d4f0-9fc2f9462d35"
      },
      "source": [
        "import seaborn as sns\r\n",
        "sns.heatmap(confusion, annot=True)"
      ],
      "execution_count": null,
      "outputs": [
        {
          "output_type": "execute_result",
          "data": {
            "text/plain": [
              "<matplotlib.axes._subplots.AxesSubplot at 0x7f22eddc76d8>"
            ]
          },
          "metadata": {
            "tags": []
          },
          "execution_count": 47
        },
        {
          "output_type": "display_data",
          "data": {
            "image/png": "[encoded data removed]",
            "text/plain": [
              "<Figure size 432x288 with 2 Axes>"
            ]
          },
          "metadata": {
            "tags": [],
            "needs_background": "light"
          }
        }
      ]
    },
    {
      "cell_type": "code",
      "metadata": {
        "colab": {
          "base_uri": "https://localhost:8080/"
        },
        "id": "O-QyOt25vNRg",
        "outputId": "3c70f2f6-c717-4d74-f895-ce641179f562"
      },
      "source": [
        "print(classification_report(y_test,y_pred))"
      ],
      "execution_count": null,
      "outputs": [
        {
          "output_type": "stream",
          "text": [
            "              precision    recall  f1-score   support\n",
            "\n",
            "           0       1.00      0.99      0.99       157\n",
            "           1       0.98      1.00      0.99       118\n",
            "\n",
            "    accuracy                           0.99       275\n",
            "   macro avg       0.99      0.99      0.99       275\n",
            "weighted avg       0.99      0.99      0.99       275\n",
            "\n"
          ],
          "name": "stdout"
        }
      ]
    },
    {
      "cell_type": "code",
      "metadata": {
        "colab": {
          "base_uri": "https://localhost:8080/"
        },
        "id": "MrV-Y2bSvOpY",
        "outputId": "29d14517-de1b-4021-80d3-78158f4d45b9"
      },
      "source": [
        "print(accuracy_score(y_test, y_pred))"
      ],
      "execution_count": null,
      "outputs": [
        {
          "output_type": "stream",
          "text": [
            "0.9927272727272727\n"
          ],
          "name": "stdout"
        }
      ]
    },
    {
      "cell_type": "markdown",
      "metadata": {
        "id": "_Yg6bi8Ix7J-"
      },
      "source": [
        "![image.png](data:image/png;base64,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)"
      ]
    },
    {
      "cell_type": "markdown",
      "metadata": {
        "id": "oBSMlk_UyBb9"
      },
      "source": [
        "98.90% is a pretty good accuracy, so there isn't much point in increasing our number of estimators anyway. We can see that increasing the number of estimators did not further improve the accuracy."
      ]
    }
  ]
}